{
 "cells": [
  {
   "cell_type": "code",
   "execution_count": 444,
   "metadata": {},
   "outputs": [],
   "source": [
    "import pdb\n",
    "import os\n",
    "from glob import glob\n",
    "import numpy as np\n",
    "import pandas as pd\n",
    "import csv\n",
    "import matplotlib.pyplot as plt\n",
    "import matplotlib.image as mpimg\n",
    "from skimage.feature import local_binary_pattern\n",
    "# from skimage.color import rgb2gray\n",
    "from sklearn import preprocessing"
   ]
  },
  {
   "cell_type": "code",
   "execution_count": null,
   "metadata": {},
   "outputs": [],
   "source": [
    "% This program reads all the folders and than generates a 2 xlsx file of\n",
    "% feature one with names and other having features of every particular\n",
    "% category."
   ]
  },
  {
   "cell_type": "code",
   "execution_count": 454,
   "metadata": {},
   "outputs": [
    {
     "name": "stdout",
     "output_type": "stream",
     "text": [
      "FILE  ['C:\\\\Users\\\\D-AI\\\\Documents\\\\Python Scripts\\\\Python wrapper\\\\Accessories\\\\Accessories00162.jpg', 'C:\\\\Users\\\\D-AI\\\\Documents\\\\Python Scripts\\\\Python wrapper\\\\Accessories\\\\Accessories00163.jpg', 'C:\\\\Users\\\\D-AI\\\\Documents\\\\Python Scripts\\\\Python wrapper\\\\Accessories\\\\Accessories00164.jpg', 'C:\\\\Users\\\\D-AI\\\\Documents\\\\Python Scripts\\\\Python wrapper\\\\Accessories\\\\Accessories00165.jpg', 'C:\\\\Users\\\\D-AI\\\\Documents\\\\Python Scripts\\\\Python wrapper\\\\Accessories\\\\Accessories00176.jpg', 'C:\\\\Users\\\\D-AI\\\\Documents\\\\Python Scripts\\\\Python wrapper\\\\Accessories\\\\Accessories00177.jpg', 'C:\\\\Users\\\\D-AI\\\\Documents\\\\Python Scripts\\\\Python wrapper\\\\Accessories\\\\Accessories00178.jpg', 'C:\\\\Users\\\\D-AI\\\\Documents\\\\Python Scripts\\\\Python wrapper\\\\Accessories\\\\Accessories00179.jpg', 'C:\\\\Users\\\\D-AI\\\\Documents\\\\Python Scripts\\\\Python wrapper\\\\Accessories\\\\Accessories00180.jpg', 'C:\\\\Users\\\\D-AI\\\\Documents\\\\Python Scripts\\\\Python wrapper\\\\Accessories\\\\Accessories00181.jpg', 'C:\\\\Users\\\\D-AI\\\\Documents\\\\Python Scripts\\\\Python wrapper\\\\Accessories\\\\Accessories00182.jpg', 'C:\\\\Users\\\\D-AI\\\\Documents\\\\Python Scripts\\\\Python wrapper\\\\Accessories\\\\Accessories00183.jpg', 'C:\\\\Users\\\\D-AI\\\\Documents\\\\Python Scripts\\\\Python wrapper\\\\Accessories\\\\Accessories00184.jpg', 'C:\\\\Users\\\\D-AI\\\\Documents\\\\Python Scripts\\\\Python wrapper\\\\Accessories\\\\Accessories00185.jpg']\n",
      "FILENAME  Accessories\n",
      "FILE  ['C:\\\\Users\\\\D-AI\\\\Documents\\\\Python Scripts\\\\Python wrapper\\\\Bags\\\\Bags00003.jpg', 'C:\\\\Users\\\\D-AI\\\\Documents\\\\Python Scripts\\\\Python wrapper\\\\Bags\\\\Bags00004.jpg', 'C:\\\\Users\\\\D-AI\\\\Documents\\\\Python Scripts\\\\Python wrapper\\\\Bags\\\\Bags00005.jpg', 'C:\\\\Users\\\\D-AI\\\\Documents\\\\Python Scripts\\\\Python wrapper\\\\Bags\\\\Bags00006.jpg', 'C:\\\\Users\\\\D-AI\\\\Documents\\\\Python Scripts\\\\Python wrapper\\\\Bags\\\\Bags00007.jpg', 'C:\\\\Users\\\\D-AI\\\\Documents\\\\Python Scripts\\\\Python wrapper\\\\Bags\\\\Bags00008.jpg', 'C:\\\\Users\\\\D-AI\\\\Documents\\\\Python Scripts\\\\Python wrapper\\\\Bags\\\\Bags00009.jpg', 'C:\\\\Users\\\\D-AI\\\\Documents\\\\Python Scripts\\\\Python wrapper\\\\Bags\\\\Bags00010.jpg', 'C:\\\\Users\\\\D-AI\\\\Documents\\\\Python Scripts\\\\Python wrapper\\\\Bags\\\\Bags00011.jpg', 'C:\\\\Users\\\\D-AI\\\\Documents\\\\Python Scripts\\\\Python wrapper\\\\Bags\\\\Bags00012.jpg', 'C:\\\\Users\\\\D-AI\\\\Documents\\\\Python Scripts\\\\Python wrapper\\\\Bags\\\\Bags00013.jpg', 'C:\\\\Users\\\\D-AI\\\\Documents\\\\Python Scripts\\\\Python wrapper\\\\Bags\\\\Bags00014.jpg', 'C:\\\\Users\\\\D-AI\\\\Documents\\\\Python Scripts\\\\Python wrapper\\\\Bags\\\\Bags00015.jpg', 'C:\\\\Users\\\\D-AI\\\\Documents\\\\Python Scripts\\\\Python wrapper\\\\Bags\\\\Bags00016.jpg']\n",
      "FILENAME  Bags\n",
      "FILE  ['C:\\\\Users\\\\D-AI\\\\Documents\\\\Python Scripts\\\\Python wrapper\\\\Coat\\\\Coat00002.jpg', 'C:\\\\Users\\\\D-AI\\\\Documents\\\\Python Scripts\\\\Python wrapper\\\\Coat\\\\Coat00003.jpg', 'C:\\\\Users\\\\D-AI\\\\Documents\\\\Python Scripts\\\\Python wrapper\\\\Coat\\\\Coat00004.jpg', 'C:\\\\Users\\\\D-AI\\\\Documents\\\\Python Scripts\\\\Python wrapper\\\\Coat\\\\Coat00005.jpg', 'C:\\\\Users\\\\D-AI\\\\Documents\\\\Python Scripts\\\\Python wrapper\\\\Coat\\\\Coat00006.jpg', 'C:\\\\Users\\\\D-AI\\\\Documents\\\\Python Scripts\\\\Python wrapper\\\\Coat\\\\Coat00007.jpg', 'C:\\\\Users\\\\D-AI\\\\Documents\\\\Python Scripts\\\\Python wrapper\\\\Coat\\\\Coat00008.jpg', 'C:\\\\Users\\\\D-AI\\\\Documents\\\\Python Scripts\\\\Python wrapper\\\\Coat\\\\Coat00009.jpg', 'C:\\\\Users\\\\D-AI\\\\Documents\\\\Python Scripts\\\\Python wrapper\\\\Coat\\\\Coat00010.jpg', 'C:\\\\Users\\\\D-AI\\\\Documents\\\\Python Scripts\\\\Python wrapper\\\\Coat\\\\Coat00011.jpg', 'C:\\\\Users\\\\D-AI\\\\Documents\\\\Python Scripts\\\\Python wrapper\\\\Coat\\\\Coat00012.jpg', 'C:\\\\Users\\\\D-AI\\\\Documents\\\\Python Scripts\\\\Python wrapper\\\\Coat\\\\Coat00013.jpg', 'C:\\\\Users\\\\D-AI\\\\Documents\\\\Python Scripts\\\\Python wrapper\\\\Coat\\\\Coat00014.jpg', 'C:\\\\Users\\\\D-AI\\\\Documents\\\\Python Scripts\\\\Python wrapper\\\\Coat\\\\Coat00015.jpg']\n",
      "FILENAME  Coat\n",
      "FILE  ['C:\\\\Users\\\\D-AI\\\\Documents\\\\Python Scripts\\\\Python wrapper\\\\Dress\\\\Dress00002.jpg', 'C:\\\\Users\\\\D-AI\\\\Documents\\\\Python Scripts\\\\Python wrapper\\\\Dress\\\\Dress00003.jpg', 'C:\\\\Users\\\\D-AI\\\\Documents\\\\Python Scripts\\\\Python wrapper\\\\Dress\\\\Dress00004.jpg', 'C:\\\\Users\\\\D-AI\\\\Documents\\\\Python Scripts\\\\Python wrapper\\\\Dress\\\\Dress00005.jpg', 'C:\\\\Users\\\\D-AI\\\\Documents\\\\Python Scripts\\\\Python wrapper\\\\Dress\\\\Dress00006.jpg', 'C:\\\\Users\\\\D-AI\\\\Documents\\\\Python Scripts\\\\Python wrapper\\\\Dress\\\\Dress00007.jpg', 'C:\\\\Users\\\\D-AI\\\\Documents\\\\Python Scripts\\\\Python wrapper\\\\Dress\\\\Dress00008.jpg', 'C:\\\\Users\\\\D-AI\\\\Documents\\\\Python Scripts\\\\Python wrapper\\\\Dress\\\\Dress00009.jpg', 'C:\\\\Users\\\\D-AI\\\\Documents\\\\Python Scripts\\\\Python wrapper\\\\Dress\\\\Dress00010.jpg', 'C:\\\\Users\\\\D-AI\\\\Documents\\\\Python Scripts\\\\Python wrapper\\\\Dress\\\\Dress00011.jpg', 'C:\\\\Users\\\\D-AI\\\\Documents\\\\Python Scripts\\\\Python wrapper\\\\Dress\\\\Dress00012.jpg', 'C:\\\\Users\\\\D-AI\\\\Documents\\\\Python Scripts\\\\Python wrapper\\\\Dress\\\\Dress00013.jpg', 'C:\\\\Users\\\\D-AI\\\\Documents\\\\Python Scripts\\\\Python wrapper\\\\Dress\\\\Dress00014.jpg', 'C:\\\\Users\\\\D-AI\\\\Documents\\\\Python Scripts\\\\Python wrapper\\\\Dress\\\\Dress00015.jpg', 'C:\\\\Users\\\\D-AI\\\\Documents\\\\Python Scripts\\\\Python wrapper\\\\Dress\\\\Dress00016.jpg', 'C:\\\\Users\\\\D-AI\\\\Documents\\\\Python Scripts\\\\Python wrapper\\\\Dress\\\\Dress00017.jpg', 'C:\\\\Users\\\\D-AI\\\\Documents\\\\Python Scripts\\\\Python wrapper\\\\Dress\\\\Dress00018.jpg', 'C:\\\\Users\\\\D-AI\\\\Documents\\\\Python Scripts\\\\Python wrapper\\\\Dress\\\\Dress00019.jpg', 'C:\\\\Users\\\\D-AI\\\\Documents\\\\Python Scripts\\\\Python wrapper\\\\Dress\\\\Dress00020.jpg']\n",
      "FILENAME  Dress\n",
      "FILE  ['C:\\\\Users\\\\D-AI\\\\Documents\\\\Python Scripts\\\\Python wrapper\\\\Jacket\\\\Jacket00002.jpg', 'C:\\\\Users\\\\D-AI\\\\Documents\\\\Python Scripts\\\\Python wrapper\\\\Jacket\\\\Jacket00003.jpg', 'C:\\\\Users\\\\D-AI\\\\Documents\\\\Python Scripts\\\\Python wrapper\\\\Jacket\\\\Jacket00004.jpg', 'C:\\\\Users\\\\D-AI\\\\Documents\\\\Python Scripts\\\\Python wrapper\\\\Jacket\\\\Jacket00005.jpg', 'C:\\\\Users\\\\D-AI\\\\Documents\\\\Python Scripts\\\\Python wrapper\\\\Jacket\\\\Jacket00006.jpg', 'C:\\\\Users\\\\D-AI\\\\Documents\\\\Python Scripts\\\\Python wrapper\\\\Jacket\\\\Jacket00007.jpg', 'C:\\\\Users\\\\D-AI\\\\Documents\\\\Python Scripts\\\\Python wrapper\\\\Jacket\\\\Jacket00008.jpg', 'C:\\\\Users\\\\D-AI\\\\Documents\\\\Python Scripts\\\\Python wrapper\\\\Jacket\\\\Jacket00009.jpg', 'C:\\\\Users\\\\D-AI\\\\Documents\\\\Python Scripts\\\\Python wrapper\\\\Jacket\\\\Jacket00010.jpg', 'C:\\\\Users\\\\D-AI\\\\Documents\\\\Python Scripts\\\\Python wrapper\\\\Jacket\\\\Jacket00011.jpg', 'C:\\\\Users\\\\D-AI\\\\Documents\\\\Python Scripts\\\\Python wrapper\\\\Jacket\\\\Jacket00012.jpg', 'C:\\\\Users\\\\D-AI\\\\Documents\\\\Python Scripts\\\\Python wrapper\\\\Jacket\\\\Jacket00013.jpg', 'C:\\\\Users\\\\D-AI\\\\Documents\\\\Python Scripts\\\\Python wrapper\\\\Jacket\\\\Jacket00014.jpg', 'C:\\\\Users\\\\D-AI\\\\Documents\\\\Python Scripts\\\\Python wrapper\\\\Jacket\\\\Jacket00015.jpg']\n",
      "FILENAME  Jacket\n",
      "FILE  ['C:\\\\Users\\\\D-AI\\\\Documents\\\\Python Scripts\\\\Python wrapper\\\\Jewelry\\\\Jewelry00003.jpg', 'C:\\\\Users\\\\D-AI\\\\Documents\\\\Python Scripts\\\\Python wrapper\\\\Jewelry\\\\Jewelry00004.jpg', 'C:\\\\Users\\\\D-AI\\\\Documents\\\\Python Scripts\\\\Python wrapper\\\\Jewelry\\\\Jewelry00005.jpg', 'C:\\\\Users\\\\D-AI\\\\Documents\\\\Python Scripts\\\\Python wrapper\\\\Jewelry\\\\Jewelry00006.jpg', 'C:\\\\Users\\\\D-AI\\\\Documents\\\\Python Scripts\\\\Python wrapper\\\\Jewelry\\\\Jewelry00007.jpg', 'C:\\\\Users\\\\D-AI\\\\Documents\\\\Python Scripts\\\\Python wrapper\\\\Jewelry\\\\Jewelry00008.jpg', 'C:\\\\Users\\\\D-AI\\\\Documents\\\\Python Scripts\\\\Python wrapper\\\\Jewelry\\\\Jewelry00009.jpg', 'C:\\\\Users\\\\D-AI\\\\Documents\\\\Python Scripts\\\\Python wrapper\\\\Jewelry\\\\Jewelry00010.jpg', 'C:\\\\Users\\\\D-AI\\\\Documents\\\\Python Scripts\\\\Python wrapper\\\\Jewelry\\\\Jewelry00011.jpg', 'C:\\\\Users\\\\D-AI\\\\Documents\\\\Python Scripts\\\\Python wrapper\\\\Jewelry\\\\Jewelry00012.jpg', 'C:\\\\Users\\\\D-AI\\\\Documents\\\\Python Scripts\\\\Python wrapper\\\\Jewelry\\\\Jewelry00013.jpg', 'C:\\\\Users\\\\D-AI\\\\Documents\\\\Python Scripts\\\\Python wrapper\\\\Jewelry\\\\Jewelry00014.jpg', 'C:\\\\Users\\\\D-AI\\\\Documents\\\\Python Scripts\\\\Python wrapper\\\\Jewelry\\\\Jewelry00015.jpg', 'C:\\\\Users\\\\D-AI\\\\Documents\\\\Python Scripts\\\\Python wrapper\\\\Jewelry\\\\Jewelry00016.jpg']\n",
      "FILENAME  Jewelry\n"
     ]
    },
    {
     "name": "stdout",
     "output_type": "stream",
     "text": [
      "FILE  ['C:\\\\Users\\\\D-AI\\\\Documents\\\\Python Scripts\\\\Python wrapper\\\\Pants\\\\Pants00002.jpg', 'C:\\\\Users\\\\D-AI\\\\Documents\\\\Python Scripts\\\\Python wrapper\\\\Pants\\\\Pants00003.jpg', 'C:\\\\Users\\\\D-AI\\\\Documents\\\\Python Scripts\\\\Python wrapper\\\\Pants\\\\Pants00004.jpg', 'C:\\\\Users\\\\D-AI\\\\Documents\\\\Python Scripts\\\\Python wrapper\\\\Pants\\\\Pants00005.jpg', 'C:\\\\Users\\\\D-AI\\\\Documents\\\\Python Scripts\\\\Python wrapper\\\\Pants\\\\Pants00006.jpg', 'C:\\\\Users\\\\D-AI\\\\Documents\\\\Python Scripts\\\\Python wrapper\\\\Pants\\\\Pants00007.jpg', 'C:\\\\Users\\\\D-AI\\\\Documents\\\\Python Scripts\\\\Python wrapper\\\\Pants\\\\Pants00008.jpg', 'C:\\\\Users\\\\D-AI\\\\Documents\\\\Python Scripts\\\\Python wrapper\\\\Pants\\\\Pants00009.jpg', 'C:\\\\Users\\\\D-AI\\\\Documents\\\\Python Scripts\\\\Python wrapper\\\\Pants\\\\Pants00010.jpg', 'C:\\\\Users\\\\D-AI\\\\Documents\\\\Python Scripts\\\\Python wrapper\\\\Pants\\\\Pants00011.jpg', 'C:\\\\Users\\\\D-AI\\\\Documents\\\\Python Scripts\\\\Python wrapper\\\\Pants\\\\Pants00012.jpg', 'C:\\\\Users\\\\D-AI\\\\Documents\\\\Python Scripts\\\\Python wrapper\\\\Pants\\\\Pants00013.jpg', 'C:\\\\Users\\\\D-AI\\\\Documents\\\\Python Scripts\\\\Python wrapper\\\\Pants\\\\Pants00014.jpg', 'C:\\\\Users\\\\D-AI\\\\Documents\\\\Python Scripts\\\\Python wrapper\\\\Pants\\\\Pants00015.jpg']\n",
      "FILENAME  Pants\n",
      "FILE  ['C:\\\\Users\\\\D-AI\\\\Documents\\\\Python Scripts\\\\Python wrapper\\\\Shirt\\\\Shirt00002.jpg', 'C:\\\\Users\\\\D-AI\\\\Documents\\\\Python Scripts\\\\Python wrapper\\\\Shirt\\\\Shirt00003.jpg', 'C:\\\\Users\\\\D-AI\\\\Documents\\\\Python Scripts\\\\Python wrapper\\\\Shirt\\\\Shirt00004.jpg', 'C:\\\\Users\\\\D-AI\\\\Documents\\\\Python Scripts\\\\Python wrapper\\\\Shirt\\\\Shirt00005.jpg', 'C:\\\\Users\\\\D-AI\\\\Documents\\\\Python Scripts\\\\Python wrapper\\\\Shirt\\\\Shirt00006.jpg', 'C:\\\\Users\\\\D-AI\\\\Documents\\\\Python Scripts\\\\Python wrapper\\\\Shirt\\\\Shirt00007.jpg', 'C:\\\\Users\\\\D-AI\\\\Documents\\\\Python Scripts\\\\Python wrapper\\\\Shirt\\\\Shirt00008.jpg', 'C:\\\\Users\\\\D-AI\\\\Documents\\\\Python Scripts\\\\Python wrapper\\\\Shirt\\\\Shirt00009.jpg', 'C:\\\\Users\\\\D-AI\\\\Documents\\\\Python Scripts\\\\Python wrapper\\\\Shirt\\\\Shirt00010.jpg', 'C:\\\\Users\\\\D-AI\\\\Documents\\\\Python Scripts\\\\Python wrapper\\\\Shirt\\\\Shirt00011.jpg', 'C:\\\\Users\\\\D-AI\\\\Documents\\\\Python Scripts\\\\Python wrapper\\\\Shirt\\\\Shirt00012.jpg', 'C:\\\\Users\\\\D-AI\\\\Documents\\\\Python Scripts\\\\Python wrapper\\\\Shirt\\\\Shirt00013.jpg', 'C:\\\\Users\\\\D-AI\\\\Documents\\\\Python Scripts\\\\Python wrapper\\\\Shirt\\\\Shirt00014.jpg', 'C:\\\\Users\\\\D-AI\\\\Documents\\\\Python Scripts\\\\Python wrapper\\\\Shirt\\\\Shirt00015.jpg']\n",
      "FILENAME  Shirt\n",
      "FILE  ['C:\\\\Users\\\\D-AI\\\\Documents\\\\Python Scripts\\\\Python wrapper\\\\Shoes\\\\Shoes00002.jpg', 'C:\\\\Users\\\\D-AI\\\\Documents\\\\Python Scripts\\\\Python wrapper\\\\Shoes\\\\Shoes00003.jpg', 'C:\\\\Users\\\\D-AI\\\\Documents\\\\Python Scripts\\\\Python wrapper\\\\Shoes\\\\Shoes00004.jpg', 'C:\\\\Users\\\\D-AI\\\\Documents\\\\Python Scripts\\\\Python wrapper\\\\Shoes\\\\Shoes00005.jpg', 'C:\\\\Users\\\\D-AI\\\\Documents\\\\Python Scripts\\\\Python wrapper\\\\Shoes\\\\Shoes00006.jpg', 'C:\\\\Users\\\\D-AI\\\\Documents\\\\Python Scripts\\\\Python wrapper\\\\Shoes\\\\Shoes00007.jpg', 'C:\\\\Users\\\\D-AI\\\\Documents\\\\Python Scripts\\\\Python wrapper\\\\Shoes\\\\Shoes00008.jpg', 'C:\\\\Users\\\\D-AI\\\\Documents\\\\Python Scripts\\\\Python wrapper\\\\Shoes\\\\Shoes00009.jpg', 'C:\\\\Users\\\\D-AI\\\\Documents\\\\Python Scripts\\\\Python wrapper\\\\Shoes\\\\Shoes00010.jpg', 'C:\\\\Users\\\\D-AI\\\\Documents\\\\Python Scripts\\\\Python wrapper\\\\Shoes\\\\Shoes00011.jpg', 'C:\\\\Users\\\\D-AI\\\\Documents\\\\Python Scripts\\\\Python wrapper\\\\Shoes\\\\Shoes00012.jpg', 'C:\\\\Users\\\\D-AI\\\\Documents\\\\Python Scripts\\\\Python wrapper\\\\Shoes\\\\Shoes00013.jpg', 'C:\\\\Users\\\\D-AI\\\\Documents\\\\Python Scripts\\\\Python wrapper\\\\Shoes\\\\Shoes00014.jpg', 'C:\\\\Users\\\\D-AI\\\\Documents\\\\Python Scripts\\\\Python wrapper\\\\Shoes\\\\Shoes00015.jpg']\n",
      "FILENAME  Shoes\n",
      "FILE  ['C:\\\\Users\\\\D-AI\\\\Documents\\\\Python Scripts\\\\Python wrapper\\\\Skirt\\\\Skirt00002.jpg', 'C:\\\\Users\\\\D-AI\\\\Documents\\\\Python Scripts\\\\Python wrapper\\\\Skirt\\\\Skirt00003.jpg', 'C:\\\\Users\\\\D-AI\\\\Documents\\\\Python Scripts\\\\Python wrapper\\\\Skirt\\\\Skirt00004.jpg', 'C:\\\\Users\\\\D-AI\\\\Documents\\\\Python Scripts\\\\Python wrapper\\\\Skirt\\\\Skirt00005.jpg', 'C:\\\\Users\\\\D-AI\\\\Documents\\\\Python Scripts\\\\Python wrapper\\\\Skirt\\\\Skirt00006.jpg', 'C:\\\\Users\\\\D-AI\\\\Documents\\\\Python Scripts\\\\Python wrapper\\\\Skirt\\\\Skirt00007.jpg', 'C:\\\\Users\\\\D-AI\\\\Documents\\\\Python Scripts\\\\Python wrapper\\\\Skirt\\\\Skirt00008.jpg', 'C:\\\\Users\\\\D-AI\\\\Documents\\\\Python Scripts\\\\Python wrapper\\\\Skirt\\\\Skirt00009.jpg', 'C:\\\\Users\\\\D-AI\\\\Documents\\\\Python Scripts\\\\Python wrapper\\\\Skirt\\\\Skirt00010.jpg', 'C:\\\\Users\\\\D-AI\\\\Documents\\\\Python Scripts\\\\Python wrapper\\\\Skirt\\\\Skirt00011.jpg', 'C:\\\\Users\\\\D-AI\\\\Documents\\\\Python Scripts\\\\Python wrapper\\\\Skirt\\\\Skirt00012.jpg', 'C:\\\\Users\\\\D-AI\\\\Documents\\\\Python Scripts\\\\Python wrapper\\\\Skirt\\\\Skirt00013.jpg', 'C:\\\\Users\\\\D-AI\\\\Documents\\\\Python Scripts\\\\Python wrapper\\\\Skirt\\\\Skirt00014.jpg', 'C:\\\\Users\\\\D-AI\\\\Documents\\\\Python Scripts\\\\Python wrapper\\\\Skirt\\\\Skirt00015.jpg']\n",
      "FILENAME  Skirt\n"
     ]
    }
   ],
   "source": [
    "def rgb2gray(rgb):\n",
    "    return np.dot(rgb[...,:3], [0.2989, 0.5870, 0.1140])\n",
    "folder_path = \"C:\\\\Users\\\\D-AI\\\\Documents\\\\Python Scripts\\\\Python wrapper\\\\\"\n",
    "dir_files = os.listdir(\"C:\\\\Users\\\\D-AI\\\\Documents\\\\Python Scripts\\\\Python wrapper\\\\\")[:-1]\n",
    "for direc in dir_files:\n",
    "    path = os.path.join(folder_path + direc)\n",
    "    if not os.path.exists(path):\n",
    "        print (\"Error: The following folder does not exist:\\n {}\".format(path))\n",
    "    else:\n",
    "#         print(path)\n",
    "        filePattern = os.listdir(path)\n",
    "        FILE = glob(path + \"/*\")[1:]\n",
    "#         print(\"FILE \",FILE)\n",
    "        filename = os.path.split(direc)[1] \n",
    "#         print(\"FILENAME \", filename)\n",
    "        file = 'C:\\\\Users\\\\D-AI\\\\Documents\\\\Python Scripts\\\\Python wrapper\\\\z_csv_files\\\\{}_data_Features.csv'.format(filename)\n",
    "        for F in FILE:\n",
    "            image = mpimg.imread(\"{}\".format(F))\n",
    "            g_scale = rgb2gray(image)\n",
    "            f1, f3=np.histogram(g_scale, bins=256)\n",
    "            f1 = np.transpose(f1)\n",
    "            radius =3\n",
    "            no_points = 8\n",
    "\n",
    "            numNeighbors = 8;\n",
    "            numBins = numNeighbors*(numNeighbors-1)+3;\n",
    "            radius = 59\n",
    "\n",
    "            f2=(local_binary_pattern(rgb2gray(image),numNeighbors,radius,method='var'))\n",
    "            f2 = np.transpose(f2)\n",
    "            f=np.concatenate(((f1),f2[0]))\n",
    "            with open(file, 'a', newline=\"\\n\" ) as csvfile:\n",
    "                writer = csv.writer(csvfile)\n",
    "                writer.writerow(f) \n"
   ]
  },
  {
   "cell_type": "code",
   "execution_count": 105,
   "metadata": {},
   "outputs": [
    {
     "name": "stdout",
     "output_type": "stream",
     "text": [
      "Accessories\n",
      "Bags\n",
      "Coat\n",
      "Dress\n",
      "Jacket\n",
      "Jewelry\n",
      "Pants\n",
      "Shirt\n",
      "Shoes\n",
      "Skirt\n"
     ]
    }
   ],
   "source": [
    "folder_path = \"C:\\\\Users\\\\D-AI\\\\Documents\\\\Python Scripts\\\\Python wrapper\\\\\"\n",
    "dir_files = os.listdir(\"C:\\\\Users\\\\D-AI\\\\Documents\\\\Python Scripts\\\\Python wrapper\\\\\")[:-1]\n",
    "for direc in dir_files:\n",
    "    path = os.path.join(folder_path + direc)\n",
    "    if not os.path.exists(path):\n",
    "        print (\"Error: The following folder does not exist:\\n {}\".format(path))\n",
    "    else:\n",
    "        filePattern = os.listdir(path)\n",
    "        filename = os.path.split(direc)[1] \n",
    "        print(filename)\n",
    "        file = 'C:\\\\Users\\\\D-AI\\\\Documents\\\\Python Scripts\\\\Python wrapper\\\\z_csv_files\\\\{}_data_Name.csv'.format(filename)\n",
    "        with open(file, 'w', newline='') as csvfile:\n",
    "            writer = csv.writer(csvfile)\n",
    "            for name in filePattern:\n",
    "                writer.writerow(name) "
   ]
  },
  {
   "cell_type": "code",
   "execution_count": null,
   "metadata": {},
   "outputs": [],
   "source": []
  }
 ],
 "metadata": {
  "kernelspec": {
   "display_name": "Python 3",
   "language": "python",
   "name": "python3"
  },
  "language_info": {
   "codemirror_mode": {
    "name": "ipython",
    "version": 3
   },
   "file_extension": ".py",
   "mimetype": "text/x-python",
   "name": "python",
   "nbconvert_exporter": "python",
   "pygments_lexer": "ipython3",
   "version": "3.7.3"
  }
 },
 "nbformat": 4,
 "nbformat_minor": 2
}
